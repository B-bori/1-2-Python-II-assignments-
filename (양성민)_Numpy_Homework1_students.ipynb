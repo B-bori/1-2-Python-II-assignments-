{
  "nbformat": 4,
  "nbformat_minor": 0,
  "metadata": {
    "kernelspec": {
      "display_name": "Python 3",
      "language": "python",
      "name": "python3"
    },
    "language_info": {
      "codemirror_mode": {
        "name": "ipython",
        "version": 3
      },
      "file_extension": ".py",
      "mimetype": "text/x-python",
      "name": "python",
      "nbconvert_exporter": "python",
      "pygments_lexer": "ipython3",
      "version": "3.8.5"
    },
    "colab": {
      "name": "(양성민) Numpy_Homework1_students.ipynb",
      "provenance": [],
      "collapsed_sections": []
    }
  },
  "cells": [
    {
      "cell_type": "markdown",
      "metadata": {
        "id": "EsX28A_gpskf",
        "colab_type": "text"
      },
      "source": [
        "# Homework 1 - Numpy"
      ]
    },
    {
      "cell_type": "markdown",
      "metadata": {
        "id": "JruutdLMpskh",
        "colab_type": "text"
      },
      "source": [
        "For all the questions, print the results with a variable of your choice (e.g., Z)"
      ]
    },
    {
      "cell_type": "markdown",
      "metadata": {
        "id": "YO5-D-DOpski",
        "colab_type": "text"
      },
      "source": [
        "#### 1. Import the numpy package under the name `np` "
      ]
    },
    {
      "cell_type": "code",
      "metadata": {
        "id": "3xLjdA2lpskj",
        "colab_type": "code",
        "colab": {}
      },
      "source": [
        "import numpy as np"
      ],
      "execution_count": null,
      "outputs": []
    },
    {
      "cell_type": "markdown",
      "metadata": {
        "id": "Zd520JbXpskp",
        "colab_type": "text"
      },
      "source": [
        "#### 2. Create a vector with values ranging from 10 to 49 "
      ]
    },
    {
      "cell_type": "code",
      "metadata": {
        "id": "hioMhvp2pskq",
        "colab_type": "code",
        "colab": {
          "base_uri": "https://localhost:8080/",
          "height": 52
        },
        "outputId": "d86caf74-a4e6-46b9-9094-432bf6de8420"
      },
      "source": [
        "a = np.arange(10,50)\n",
        "print(a)"
      ],
      "execution_count": null,
      "outputs": [
        {
          "output_type": "stream",
          "text": [
            "[10 11 12 13 14 15 16 17 18 19 20 21 22 23 24 25 26 27 28 29 30 31 32 33\n",
            " 34 35 36 37 38 39 40 41 42 43 44 45 46 47 48 49]\n"
          ],
          "name": "stdout"
        }
      ]
    },
    {
      "cell_type": "markdown",
      "metadata": {
        "id": "gQS57MAKpskv",
        "colab_type": "text"
      },
      "source": [
        "#### 3. Reverse a vector (first element becomes last) "
      ]
    },
    {
      "cell_type": "code",
      "metadata": {
        "id": "30kTDowjpskw",
        "colab_type": "code",
        "colab": {
          "base_uri": "https://localhost:8080/",
          "height": 52
        },
        "outputId": "33179bdc-928f-4428-cd7a-5bc6c95dfcb1"
      },
      "source": [
        "a = np.arange(10,50)\n",
        "reverse = a[::-1]\n",
        "print(reverse)"
      ],
      "execution_count": null,
      "outputs": [
        {
          "output_type": "stream",
          "text": [
            "[49 48 47 46 45 44 43 42 41 40 39 38 37 36 35 34 33 32 31 30 29 28 27 26\n",
            " 25 24 23 22 21 20 19 18 17 16 15 14 13 12 11 10]\n"
          ],
          "name": "stdout"
        }
      ]
    },
    {
      "cell_type": "markdown",
      "metadata": {
        "id": "4SqUHLWypsk1",
        "colab_type": "text"
      },
      "source": [
        "#### 4. Create a 3x3 matrix with values ranging from 0 to 8 "
      ]
    },
    {
      "cell_type": "code",
      "metadata": {
        "id": "qsjqMkQTpsk2",
        "colab_type": "code",
        "colab": {
          "base_uri": "https://localhost:8080/",
          "height": 70
        },
        "outputId": "4e940338-3320-46c5-b9b0-422506a307c5"
      },
      "source": [
        "b = np.arange(0,9).reshape(3,3)\n",
        "print(b)"
      ],
      "execution_count": null,
      "outputs": [
        {
          "output_type": "stream",
          "text": [
            "[[0 1 2]\n",
            " [3 4 5]\n",
            " [6 7 8]]\n"
          ],
          "name": "stdout"
        }
      ]
    },
    {
      "cell_type": "markdown",
      "metadata": {
        "id": "BSyCYoBOpsk7",
        "colab_type": "text"
      },
      "source": [
        "#### 5. Find indices of non-zero elements from [1,2,0,0,4,0] "
      ]
    },
    {
      "cell_type": "code",
      "metadata": {
        "id": "JLR_90i4psk8",
        "colab_type": "code",
        "colab": {
          "base_uri": "https://localhost:8080/",
          "height": 34
        },
        "outputId": "d2ad2a58-e95b-4bdf-f92d-8bed2f9028fc"
      },
      "source": [
        "x =np.array([1,2,0,0,4,0])\n",
        "non_zeros = np.nonzero(x)\n",
        "print(non_zeros)"
      ],
      "execution_count": null,
      "outputs": [
        {
          "output_type": "stream",
          "text": [
            "(array([0, 1, 4]),)\n"
          ],
          "name": "stdout"
        }
      ]
    },
    {
      "cell_type": "markdown",
      "metadata": {
        "id": "hiwVHT_upslB",
        "colab_type": "text"
      },
      "source": [
        "#### 6. Create a 3x3 identity matrix "
      ]
    },
    {
      "cell_type": "code",
      "metadata": {
        "id": "fG9BZiePpslC",
        "colab_type": "code",
        "colab": {
          "base_uri": "https://localhost:8080/",
          "height": 70
        },
        "outputId": "59cc1ad3-4d46-4bf9-8091-d4d06509875b"
      },
      "source": [
        "size3_Identity = np.eye(3)\n",
        "print(size3_Identity)"
      ],
      "execution_count": null,
      "outputs": [
        {
          "output_type": "stream",
          "text": [
            "[[1. 0. 0.]\n",
            " [0. 1. 0.]\n",
            " [0. 0. 1.]]\n"
          ],
          "name": "stdout"
        }
      ]
    },
    {
      "cell_type": "markdown",
      "metadata": {
        "id": "TMLZf69bpslH",
        "colab_type": "text"
      },
      "source": [
        "#### 7. Create a 3x3x3 array with random values "
      ]
    },
    {
      "cell_type": "code",
      "metadata": {
        "id": "6am4hU2WpslI",
        "colab_type": "code",
        "colab": {
          "base_uri": "https://localhost:8080/",
          "height": 210
        },
        "outputId": "9131257e-dc09-406c-dcc4-e1788cc9e9c6"
      },
      "source": [
        "random = np.random.random((3,3,3))\n",
        "print(random)"
      ],
      "execution_count": null,
      "outputs": [
        {
          "output_type": "stream",
          "text": [
            "[[[0.29329011 0.02596752 0.06358726]\n",
            "  [0.15573715 0.39856258 0.72744304]\n",
            "  [0.50044645 0.61059932 0.12763983]]\n",
            "\n",
            " [[0.72612076 0.71473032 0.98532856]\n",
            "  [0.14894504 0.3409795  0.70108798]\n",
            "  [0.17176653 0.13621056 0.58391638]]\n",
            "\n",
            " [[0.92144266 0.18236531 0.80677131]\n",
            "  [0.75566607 0.17516381 0.58460206]\n",
            "  [0.77392548 0.56330015 0.47660893]]]\n"
          ],
          "name": "stdout"
        }
      ]
    },
    {
      "cell_type": "markdown",
      "metadata": {
        "id": "s_VYm2e-pslM",
        "colab_type": "text"
      },
      "source": [
        "#### 8. Create a 10x10 array with random values and find the minimum and maximum values "
      ]
    },
    {
      "cell_type": "code",
      "metadata": {
        "id": "xFE34QlLpslN",
        "colab_type": "code",
        "colab": {
          "base_uri": "https://localhost:8080/",
          "height": 457
        },
        "outputId": "56311eb4-9a8e-4326-aa81-ef533955bbf7"
      },
      "source": [
        "arr = np.random.random((10,10))\n",
        "\n",
        "max = np.max(arr)\n",
        "min = np.min(arr)\n",
        "\n",
        "print('Given array: \\n', arr)\n",
        "print()\n",
        "print('maximum value:', max)\n",
        "print()\n",
        "print('minimum value:', min)"
      ],
      "execution_count": null,
      "outputs": [
        {
          "output_type": "stream",
          "text": [
            "Given array: \n",
            " [[0.97708719 0.9574233  0.74168018 0.0532567  0.67806745 0.51564306\n",
            "  0.91700013 0.79853787 0.69486843 0.95912788]\n",
            " [0.24443005 0.35462125 0.62256808 0.11549149 0.67898634 0.34445806\n",
            "  0.58890014 0.47359822 0.93131304 0.72075776]\n",
            " [0.65914006 0.52838564 0.72818033 0.86987229 0.56734988 0.0021527\n",
            "  0.32887137 0.10616782 0.02371624 0.96246414]\n",
            " [0.361716   0.81205716 0.87349198 0.72956046 0.46606184 0.30484401\n",
            "  0.04349326 0.62149848 0.58831925 0.43585839]\n",
            " [0.67961042 0.61997299 0.45095572 0.2522355  0.53415503 0.17754517\n",
            "  0.47449641 0.04002925 0.6101682  0.17767783]\n",
            " [0.98034657 0.14405095 0.53515188 0.90185419 0.93833443 0.76768526\n",
            "  0.3906719  0.7256735  0.78320436 0.6107563 ]\n",
            " [0.87506776 0.90583413 0.02500854 0.59542767 0.60092082 0.90669142\n",
            "  0.31797339 0.35257405 0.70598569 0.47022064]\n",
            " [0.94197179 0.89907903 0.67440189 0.46356106 0.89685463 0.15205509\n",
            "  0.13783409 0.58767075 0.86455341 0.79614013]\n",
            " [0.84989479 0.84776389 0.68944895 0.77092541 0.95420269 0.66268325\n",
            "  0.24688098 0.04214995 0.84919068 0.88153347]\n",
            " [0.18276507 0.07091782 0.56516328 0.57073345 0.62777522 0.46036416\n",
            "  0.41393971 0.96517498 0.2306553  0.2968887 ]]\n",
            "\n",
            "maximum value: 0.9803465745211303\n",
            "\n",
            "minimum value: 0.0021527040898655647\n"
          ],
          "name": "stdout"
        }
      ]
    },
    {
      "cell_type": "markdown",
      "metadata": {
        "id": "Gxfo7jbgpslR",
        "colab_type": "text"
      },
      "source": [
        "#### 9. Create a checkerboard 8x8 matrix using np.array([0,1],[1,0]) and the tile function  "
      ]
    },
    {
      "cell_type": "code",
      "metadata": {
        "id": "HV7Gz_qPpslS",
        "colab_type": "code",
        "colab": {
          "base_uri": "https://localhost:8080/",
          "height": 158
        },
        "outputId": "a285d54f-bb9f-4c1d-e0d5-a9923a64dee4"
      },
      "source": [
        "a = np.array([[0,1],[1,0]])\n",
        "checkerboard = np.tile(a, (4,4))\n",
        "print(checkerboard)"
      ],
      "execution_count": null,
      "outputs": [
        {
          "output_type": "stream",
          "text": [
            "[[0 1 0 1 0 1 0 1]\n",
            " [1 0 1 0 1 0 1 0]\n",
            " [0 1 0 1 0 1 0 1]\n",
            " [1 0 1 0 1 0 1 0]\n",
            " [0 1 0 1 0 1 0 1]\n",
            " [1 0 1 0 1 0 1 0]\n",
            " [0 1 0 1 0 1 0 1]\n",
            " [1 0 1 0 1 0 1 0]]\n"
          ],
          "name": "stdout"
        }
      ]
    },
    {
      "cell_type": "markdown",
      "metadata": {
        "id": "r49gbv8ypslW",
        "colab_type": "text"
      },
      "source": [
        "#### 10. Multiply a 5x3 matrix by a 3x2 matrix (real matrix product) "
      ]
    },
    {
      "cell_type": "code",
      "metadata": {
        "id": "OTmL3_ZJpslY",
        "colab_type": "code",
        "colab": {
          "base_uri": "https://localhost:8080/",
          "height": 246
        },
        "outputId": "93358d2f-8dee-4a93-c669-34b698d7e2f5"
      },
      "source": [
        "a = np.random.random((5,3))\n",
        "b = np.random.random((3,2))\n",
        "\n",
        "product = a @ b \n",
        "\n",
        "# you can use either 1 or 2\n",
        "# 1.\n",
        "print(\"Method 1: \\n\", product)\n",
        "print()\n",
        "# 2.\n",
        "print(\"Method 2: \\n\", a.dot(b))"
      ],
      "execution_count": null,
      "outputs": [
        {
          "output_type": "stream",
          "text": [
            "Method 1: \n",
            " [[0.7501275  1.48279483]\n",
            " [0.31683305 1.00058664]\n",
            " [0.59862406 0.97006132]\n",
            " [0.56012871 1.13536492]\n",
            " [0.65805222 1.36811019]]\n",
            "\n",
            "Method 2: \n",
            " [[0.7501275  1.48279483]\n",
            " [0.31683305 1.00058664]\n",
            " [0.59862406 0.97006132]\n",
            " [0.56012871 1.13536492]\n",
            " [0.65805222 1.36811019]]\n"
          ],
          "name": "stdout"
        }
      ]
    },
    {
      "cell_type": "markdown",
      "metadata": {
        "id": "gDUB-6cLpsld",
        "colab_type": "text"
      },
      "source": [
        "#### 11. Create a 5x5 matrix with row values ranging from 0 to 4 using tile function as follows:\n"
      ]
    },
    {
      "cell_type": "markdown",
      "metadata": {
        "id": "e9Y67zHYpsld",
        "colab_type": "raw"
      },
      "source": [
        "array([[0, 1, 2, 3, 4],\n",
        "       [0, 1, 2, 3, 4],\n",
        "       [0, 1, 2, 3, 4],\n",
        "       [0, 1, 2, 3, 4],\n",
        "       [0, 1, 2, 3, 4]])"
      ]
    },
    {
      "cell_type": "code",
      "metadata": {
        "id": "M3tys9dKpsle",
        "colab_type": "code",
        "colab": {
          "base_uri": "https://localhost:8080/",
          "height": 175
        },
        "outputId": "9592c571-ef88-457e-999d-40943e1417ee"
      },
      "source": [
        "a = np.arange(0,5)\n",
        "tile = np.tile(a, (4,1))\n",
        "\n",
        "print(tile)\n",
        "print()\n",
        "\n",
        "# just in case, to get perfectly same result as above \n",
        "tile"
      ],
      "execution_count": null,
      "outputs": [
        {
          "output_type": "stream",
          "text": [
            "[[0 1 2 3 4]\n",
            " [0 1 2 3 4]\n",
            " [0 1 2 3 4]\n",
            " [0 1 2 3 4]]\n",
            "\n"
          ],
          "name": "stdout"
        },
        {
          "output_type": "execute_result",
          "data": {
            "text/plain": [
              "array([[0, 1, 2, 3, 4],\n",
              "       [0, 1, 2, 3, 4],\n",
              "       [0, 1, 2, 3, 4],\n",
              "       [0, 1, 2, 3, 4]])"
            ]
          },
          "metadata": {
            "tags": []
          },
          "execution_count": 36
        }
      ]
    },
    {
      "cell_type": "markdown",
      "metadata": {
        "id": "M_31v9LGpslj",
        "colab_type": "text"
      },
      "source": [
        "#### 12. Create a 5x5 matrix with row values ranging from 0 to 4 using broadcasting\n"
      ]
    },
    {
      "cell_type": "code",
      "metadata": {
        "id": "oHAFsD6hpslk",
        "colab_type": "code",
        "colab": {
          "base_uri": "https://localhost:8080/",
          "height": 105
        },
        "outputId": "a0963617-8d9f-4981-d480-2181c2d38a7c"
      },
      "source": [
        "a = np.arange(0,5)\n",
        "tmp = np.zeros((5,1))\n",
        "broadcasting_result = a + tmp\n",
        "print(broadcasting_result)"
      ],
      "execution_count": null,
      "outputs": [
        {
          "output_type": "stream",
          "text": [
            "[[0. 1. 2. 3. 4.]\n",
            " [0. 1. 2. 3. 4.]\n",
            " [0. 1. 2. 3. 4.]\n",
            " [0. 1. 2. 3. 4.]\n",
            " [0. 1. 2. 3. 4.]]\n"
          ],
          "name": "stdout"
        }
      ]
    },
    {
      "cell_type": "markdown",
      "metadata": {
        "id": "0pvgr66Hpslo",
        "colab_type": "text"
      },
      "source": [
        "#### 13. Create a random vector of size 10 and sort it "
      ]
    },
    {
      "cell_type": "code",
      "metadata": {
        "id": "MrOk4oM2pslp",
        "colab_type": "code",
        "colab": {
          "base_uri": "https://localhost:8080/",
          "height": 105
        },
        "outputId": "6a2907ca-5498-4a62-ba6e-885b40415fda"
      },
      "source": [
        "vector = np.random.random(10)\n",
        "print(vector)\n",
        "print()\n",
        "sorted_vector = np.sort(vector)\n",
        "print(sorted_vector)"
      ],
      "execution_count": null,
      "outputs": [
        {
          "output_type": "stream",
          "text": [
            "[0.42812176 0.73417814 0.05754633 0.46001347 0.48546121 0.26352423\n",
            " 0.50982484 0.63672837 0.39433018 0.71232306]\n",
            "\n",
            "[0.05754633 0.26352423 0.39433018 0.42812176 0.46001347 0.48546121\n",
            " 0.50982484 0.63672837 0.71232306 0.73417814]\n"
          ],
          "name": "stdout"
        }
      ]
    },
    {
      "cell_type": "markdown",
      "metadata": {
        "id": "gAxH3aj3pslt",
        "colab_type": "text"
      },
      "source": [
        "#### 14. Subtract the mean of each row\n",
        "\n",
        "X = np.random.rand(5,10)"
      ]
    },
    {
      "cell_type": "code",
      "metadata": {
        "id": "dOW6VMSU1E8S",
        "colab_type": "code",
        "colab": {
          "base_uri": "https://localhost:8080/",
          "height": 193
        },
        "outputId": "277521a7-6cc9-4e40-9019-d502be85c921"
      },
      "source": [
        "x = np.random.rand(5,10)\n",
        "mean_arr = x.mean(axis = 1).reshape(5,1)\n",
        "result = x - mean_arr\n",
        "print(result)"
      ],
      "execution_count": null,
      "outputs": [
        {
          "output_type": "stream",
          "text": [
            "[[-0.37253701 -0.13155494 -0.39835446  0.23473636  0.50681551  0.15556345\n",
            "  -0.41210638  0.47655156 -0.20377911  0.14466501]\n",
            " [ 0.11352053 -0.20919647 -0.12484597  0.23382269  0.43657952  0.14350773\n",
            "  -0.05156308 -0.12709437 -0.23950881 -0.17522177]\n",
            " [ 0.24799827 -0.17083493  0.25394695  0.18185756 -0.0730852  -0.29667506\n",
            "   0.35484998 -0.21747161 -0.25106243 -0.02952352]\n",
            " [-0.44752551 -0.0084746  -0.10676363 -0.14307383  0.26036536  0.16873221\n",
            "   0.43752587  0.38046823 -0.33328808 -0.20796602]\n",
            " [-0.05719858  0.46552237 -0.02498623  0.55430121 -0.22715057 -0.16571502\n",
            "  -0.26460388 -0.32953027  0.22626183 -0.17690087]]\n"
          ],
          "name": "stdout"
        }
      ]
    },
    {
      "cell_type": "markdown",
      "metadata": {
        "id": "HjqxMhcNpslx",
        "colab_type": "text"
      },
      "source": [
        "#### 15. Create, 10 by 10 multiplication table from 1 to 10"
      ]
    },
    {
      "cell_type": "code",
      "metadata": {
        "id": "ZUWrapNGpslx",
        "colab_type": "code",
        "colab": {
          "base_uri": "https://localhost:8080/",
          "height": 193
        },
        "outputId": "504efa62-b688-4c9f-e839-096892d154f1"
      },
      "source": [
        "a = np.arange(1,11)\n",
        "b = a.reshape(10,1)\n",
        "multiplication_table = a * b\n",
        "print(multiplication_table) "
      ],
      "execution_count": null,
      "outputs": [
        {
          "output_type": "stream",
          "text": [
            "[[  1   2   3   4   5   6   7   8   9  10]\n",
            " [  2   4   6   8  10  12  14  16  18  20]\n",
            " [  3   6   9  12  15  18  21  24  27  30]\n",
            " [  4   8  12  16  20  24  28  32  36  40]\n",
            " [  5  10  15  20  25  30  35  40  45  50]\n",
            " [  6  12  18  24  30  36  42  48  54  60]\n",
            " [  7  14  21  28  35  42  49  56  63  70]\n",
            " [  8  16  24  32  40  48  56  64  72  80]\n",
            " [  9  18  27  36  45  54  63  72  81  90]\n",
            " [ 10  20  30  40  50  60  70  80  90 100]]\n"
          ],
          "name": "stdout"
        }
      ]
    },
    {
      "cell_type": "markdown",
      "metadata": {
        "id": "aJkD-ac_psl0",
        "colab_type": "text"
      },
      "source": [
        "#### 16. How to get the diagonal of a dot product? \n",
        "\n",
        "A = np.random.uniform(0,1,(5,5))\n",
        "B = np.random.uniform(0,1,(5,5))"
      ]
    },
    {
      "cell_type": "code",
      "metadata": {
        "id": "ZkVCT0nPpsl0",
        "colab_type": "code",
        "colab": {
          "base_uri": "https://localhost:8080/",
          "height": 34
        },
        "outputId": "a169802a-3de2-4675-eceb-d9eeafbbc972"
      },
      "source": [
        "A = np.random.uniform(0,1,(5,5))\n",
        "B = np.random.uniform(0,1, (5,5))\n",
        "\n",
        "dot = A.dot(B)\n",
        "\n",
        "print(np.diagonal(dot))"
      ],
      "execution_count": null,
      "outputs": [
        {
          "output_type": "stream",
          "text": [
            "[1.02126711 0.40052411 1.03773738 1.32306615 0.82727472]\n"
          ],
          "name": "stdout"
        }
      ]
    },
    {
      "cell_type": "markdown",
      "metadata": {
        "id": "IiZJAiijpsl2",
        "colab_type": "text"
      },
      "source": [
        "#### 17. Consider the vector [1, 2, 3, 4, 5], how to build a new vector with 3 consecutive zeros interleaved between each value?"
      ]
    },
    {
      "cell_type": "code",
      "metadata": {
        "id": "j7gahbjhBErv",
        "colab_type": "code",
        "colab": {
          "base_uri": "https://localhost:8080/",
          "height": 34
        },
        "outputId": "180109f0-c53d-4855-8fd2-c23d518df73a"
      },
      "source": [
        "vector = np.array([1,2,3,4,5])\n",
        "l = len(vector)\n",
        "result = np.zeros(l + (l - 1)*3)\n",
        "result[::4] = vector \n",
        "print(result)"
      ],
      "execution_count": null,
      "outputs": [
        {
          "output_type": "stream",
          "text": [
            "[1. 0. 0. 0. 2. 0. 0. 0. 3. 0. 0. 0. 4. 0. 0. 0. 5.]\n"
          ],
          "name": "stdout"
        }
      ]
    },
    {
      "cell_type": "markdown",
      "metadata": {
        "id": "sNOEHNLRpsl4",
        "colab_type": "text"
      },
      "source": [
        "#### 18. Consider two arrays A and B of shape (8,3) and (2,2). How to find rows of A that contain elements of each row of B regardless of the order of the elements in B?\n",
        "\n",
        "A = np.random.randint(0,5,(8,3))\n",
        "B = np.random.randint(0,5,(2,2))"
      ]
    },
    {
      "cell_type": "code",
      "metadata": {
        "id": "CqU9YZ7YCHBA",
        "colab_type": "code",
        "colab": {}
      },
      "source": [
        "# Professor's message\n",
        "\n",
        "'''\n",
        "Dear all,\n",
        "\n",
        "\n",
        "\n",
        "Please ignore Question 18 in Homework #1.\n",
        "\n",
        "The question is too difficult and complicated, and we did not cover the related issues in the class.\n",
        "\n",
        "You can use numpy functions, any, all, newaixs.\n",
        "\n",
        "Of course, you can answer the question.. but don't be too stressed out with the question.\n",
        "\n",
        "\n",
        "\n",
        "Sincerely,\n",
        "\n",
        "Sungshin Kim\n",
        "'''"
      ],
      "execution_count": null,
      "outputs": []
    },
    {
      "cell_type": "code",
      "metadata": {
        "id": "RwJgdsjSeR_e",
        "colab_type": "code",
        "colab": {
          "base_uri": "https://localhost:8080/",
          "height": 246
        },
        "outputId": "9d86b0d4-1d2d-4daf-a690-845e1a59eeec"
      },
      "source": [
        "A = np.random.randint(0,5,(8,3))\n",
        "B = np.random.randint(0,5,(2,2))\n",
        "C = (A[..., np.newaxis, np.newaxis] == B)\n",
        "\n",
        "print(A)\n",
        "print()\n",
        "print(B)\n",
        "print()\n",
        "rows = np.where(C.any((3,1)).all(1))[0]\n",
        "print('indices of the rows which satisfy given conditions:', rows)"
      ],
      "execution_count": null,
      "outputs": [
        {
          "output_type": "stream",
          "text": [
            "[[1 2 1]\n",
            " [3 4 4]\n",
            " [2 0 0]\n",
            " [0 1 4]\n",
            " [2 1 0]\n",
            " [0 0 2]\n",
            " [4 4 1]\n",
            " [4 4 2]]\n",
            "\n",
            "[[3 2]\n",
            " [4 3]]\n",
            "\n",
            "indices of the rows which satisfy given conditions: [1 7]\n"
          ],
          "name": "stdout"
        }
      ]
    },
    {
      "cell_type": "markdown",
      "metadata": {
        "id": "57rW5Zj7psl7",
        "colab_type": "text"
      },
      "source": [
        "#### 19. How to swap two rows of an array? Generate an array from 0 to 24, and reshape it 5 by 5 and swap first two rows of the array"
      ]
    },
    {
      "cell_type": "code",
      "metadata": {
        "id": "Oq7cORHDI_HQ",
        "colab_type": "code",
        "colab": {
          "base_uri": "https://localhost:8080/",
          "height": 105
        },
        "outputId": "5d84047c-524f-4e77-d381-303aae536ef7"
      },
      "source": [
        "arr = np.arange(0,25).reshape(5,5)\n",
        "arr[0:2] = arr[1::-1] \n",
        "print(arr)"
      ],
      "execution_count": null,
      "outputs": [
        {
          "output_type": "stream",
          "text": [
            "[[ 5  6  7  8  9]\n",
            " [ 0  1  2  3  4]\n",
            " [10 11 12 13 14]\n",
            " [15 16 17 18 19]\n",
            " [20 21 22 23 24]]\n"
          ],
          "name": "stdout"
        }
      ]
    },
    {
      "cell_type": "markdown",
      "metadata": {
        "id": "2k03jikzpsl9",
        "colab_type": "text"
      },
      "source": [
        "#### 20. How to find the most frequent value in an array? \n",
        "\n",
        "Z = np.random.randint(0,10,50). hint: np.bincount, np.argmax"
      ]
    },
    {
      "cell_type": "code",
      "metadata": {
        "id": "s-dI3F7epsl9",
        "colab_type": "code",
        "colab": {
          "base_uri": "https://localhost:8080/",
          "height": 122
        },
        "outputId": "a217c795-8550-4e0a-ca80-d6ac26ddfcbd"
      },
      "source": [
        "# This may be the Best answer that professor might be expecting.... \n",
        "\n",
        "Z = np.random.randint(0,10,50)\n",
        "print(Z)\n",
        "print()\n",
        "freq = np.bincount(Z)\n",
        "print(freq)\n",
        "print()\n",
        "most_freq_value = np.argmax(freq)\n",
        "print('The most frequent value in the given array:', most_freq_value)"
      ],
      "execution_count": null,
      "outputs": [
        {
          "output_type": "stream",
          "text": [
            "[6 1 3 6 0 4 6 2 8 4 1 1 4 4 6 2 4 1 8 5 2 4 4 0 9 3 0 5 3 3 3 4 3 7 2 3 4\n",
            " 3 3 8 8 4 0 1 6 9 3 9 6 3]\n",
            "\n",
            "[ 4  5  4 11 10  2  6  1  4  3]\n",
            "\n",
            "The most frequent value in the given array: 3\n"
          ],
          "name": "stdout"
        }
      ]
    },
    {
      "cell_type": "code",
      "metadata": {
        "id": "Tx7RpISMO_Gd",
        "colab_type": "code",
        "colab": {}
      },
      "source": [
        "# However, Knowing that above code doesn't return actual value when they have more than 1 most frequent value, (e.g. [1,2,2,2,3,3,3] has 2 and 3 as its most frequent values)) \n",
        "# I came up with the below answers (one using argmax, another using argsort instead of argmax, the other not using both argmax and argsort)"
      ],
      "execution_count": null,
      "outputs": []
    },
    {
      "cell_type": "code",
      "metadata": {
        "id": "cb8v3K4goyOg",
        "colab_type": "code",
        "colab": {
          "base_uri": "https://localhost:8080/",
          "height": 105
        },
        "outputId": "d4110877-ad66-4859-8fae-53f3eeb4f94b"
      },
      "source": [
        "# Method which use argmax\n",
        "\n",
        "Z = np.array([1,1,1,1,2,2,2,2,3,3,3,4,4,4,4])\n",
        "print(Z)\n",
        "print()\n",
        "freq = np.bincount(Z)\n",
        "print(freq)\n",
        "print()\n",
        "before = np.argmax(freq)\n",
        "ans = [before]\n",
        "l = freq[before]\n",
        "\n",
        "while (True):\n",
        "  tmp = list(Z)\n",
        "  idx = tmp.index(before)\n",
        "  reduced = np.delete(Z, idx)\n",
        "  freq_tmp = np.bincount(reduced)\n",
        "  after = np.argmax(freq_tmp)\n",
        "\n",
        "  if ((after not in ans) and (freq_tmp[after] == l)):\n",
        "    ans.append(after)\n",
        "    before = after\n",
        "    Z = reduced\n",
        "\n",
        "  else:\n",
        "    break\n",
        "\n",
        "\n",
        "print('The most frequent values in the given array:', ans)"
      ],
      "execution_count": null,
      "outputs": [
        {
          "output_type": "stream",
          "text": [
            "[1 1 1 1 2 2 2 2 3 3 3 4 4 4 4]\n",
            "\n",
            "[0 4 4 3 4]\n",
            "\n",
            "The most frequent values in the given array: [1, 2, 4]\n"
          ],
          "name": "stdout"
        }
      ]
    },
    {
      "cell_type": "code",
      "metadata": {
        "id": "XsS-MSSDhTM9",
        "colab_type": "code",
        "colab": {
          "base_uri": "https://localhost:8080/",
          "height": 105
        },
        "outputId": "4a1ecbde-8900-41ad-b5ab-400ce530fa71"
      },
      "source": [
        "# Method which use argsort instead of argmax\n",
        "\n",
        "from collections import Counter\n",
        "\n",
        "Z = np.array([1,2,2,2,2,2,3,3,3,3,4])\n",
        "print(Z)\n",
        "print()\n",
        "freq = np.bincount(Z)\n",
        "print(freq)\n",
        "print()\n",
        "# most_freq_value = np.argmax(freq)\n",
        "max_freq = np.max(freq)\n",
        "n = len([idx for idx, val in enumerate(freq) if val == max_freq])\n",
        "\n",
        "ans = np.argsort(freq)[::-1][n-1::-1]\n",
        "\n",
        "print('The most frequent values in the given array:', ans)"
      ],
      "execution_count": null,
      "outputs": [
        {
          "output_type": "stream",
          "text": [
            "[1 2 2 2 2 2 3 3 3 3 4]\n",
            "\n",
            "[0 1 5 4 1]\n",
            "\n",
            "The most frequent values in the given array: [2]\n"
          ],
          "name": "stdout"
        }
      ]
    },
    {
      "cell_type": "code",
      "metadata": {
        "id": "OQVtTUtCB8Gj",
        "colab_type": "code",
        "colab": {
          "base_uri": "https://localhost:8080/",
          "height": 105
        },
        "outputId": "6d1f6890-b3d0-419f-e400-f1e18bc5926a"
      },
      "source": [
        "# Method which doesn't use both argmax and argsort\n",
        "\n",
        "from collections import Counter\n",
        "\n",
        "Z = np.array([1,2,2,2,3,3,3,4])\n",
        "print(Z)\n",
        "print()\n",
        "freq = np.bincount(Z)\n",
        "print(freq)\n",
        "print()\n",
        "# most_freq_value = np.argmax(freq)\n",
        "freq_how_many = np.max(freq)\n",
        "\n",
        "count = Counter(Z)\n",
        "\n",
        "val = np.array(list(count.values()))\n",
        "key = np.array(list(count.keys()))\n",
        "chk = (val == freq_how_many)\n",
        "\n",
        "ans = key[chk]\n",
        "\n",
        "print('The most frequent values in the given array:', ans)"
      ],
      "execution_count": null,
      "outputs": [
        {
          "output_type": "stream",
          "text": [
            "[1 2 2 2 3 3 3 4]\n",
            "\n",
            "[0 1 3 3 1]\n",
            "\n",
            "The most frequent values in the given array: [2 3]\n"
          ],
          "name": "stdout"
        }
      ]
    },
    {
      "cell_type": "markdown",
      "metadata": {
        "id": "g0iTxrrLpsl_",
        "colab_type": "text"
      },
      "source": [
        "#### 21. How to get the n largest values of an array?\n",
        "\n",
        "start with \n",
        "Z = np.arange(10000);\n",
        "np.random.shuffle(Z)\n",
        ", Hint: np.argsort"
      ]
    },
    {
      "cell_type": "code",
      "metadata": {
        "id": "lDy_L6fXpsmA",
        "colab_type": "code",
        "colab": {
          "base_uri": "https://localhost:8080/",
          "height": 175
        },
        "outputId": "58ac3af4-ae76-4d8c-f5f9-b77670eec6fc"
      },
      "source": [
        "Z = np.arange(10000)\n",
        "print(\"Shuffled array\")\n",
        "np.random.shuffle(Z)\n",
        "print(Z)\n",
        "print()\n",
        "\n",
        "n = int(input('n = '))\n",
        "arg_sort = np.argsort(Z)\n",
        "where = arg_sort[-n:]\n",
        "print(\"Find indices of the n largest values\")\n",
        "print(where)\n",
        "print()\n",
        "print(\"Find the n largest values of shuffled array\")\n",
        "find = Z[where]\n",
        "print(find)"
      ],
      "execution_count": null,
      "outputs": [
        {
          "output_type": "stream",
          "text": [
            "Shuffled array\n",
            "[6747 5042 9659 ... 9520 2465 1548]\n",
            "\n",
            "n = 10\n",
            "Find indices of the n largest values\n",
            "[3423 1001 5847 2439 8966 9802 1695 6148 5442 7024]\n",
            "\n",
            "Find the n largest values of shuffled array\n",
            "[9990 9991 9992 9993 9994 9995 9996 9997 9998 9999]\n"
          ],
          "name": "stdout"
        }
      ]
    },
    {
      "cell_type": "markdown",
      "metadata": {
        "id": "MAqsWo4cpsmC",
        "colab_type": "text"
      },
      "source": [
        "#### 22. Given a two dimensional array, how to extract unique rows? \n",
        "\n",
        "Hint: np.unique"
      ]
    },
    {
      "cell_type": "code",
      "metadata": {
        "id": "yG5agzptpsmD",
        "colab_type": "code",
        "colab": {
          "base_uri": "https://localhost:8080/",
          "height": 228
        },
        "outputId": "e8390c7f-e70b-4e47-f444-53e4d77979fe"
      },
      "source": [
        "row = int(input('row size:'))\n",
        "column = int(input('column size:'))\n",
        "Z = np.random.randint(2, size = row*column).reshape(row, column)\n",
        "print()\n",
        "\n",
        "print(Z)\n",
        "print()\n",
        "unique_rows = np.unique(Z, axis=0)\n",
        "print(unique_rows)"
      ],
      "execution_count": null,
      "outputs": [
        {
          "output_type": "stream",
          "text": [
            "row size:5\n",
            "column size:3\n",
            "\n",
            "[[0 0 0]\n",
            " [0 0 1]\n",
            " [0 0 1]\n",
            " [0 0 0]\n",
            " [1 1 1]]\n",
            "\n",
            "[[0 0 0]\n",
            " [0 0 1]\n",
            " [1 1 1]]\n"
          ],
          "name": "stdout"
        }
      ]
    },
    {
      "cell_type": "markdown",
      "metadata": {
        "id": "5mfHTg6fpsmE",
        "colab_type": "text"
      },
      "source": [
        "#### 23. How to compute averages using a sliding window over an array? \n",
        "\n",
        "make a function with two arguments, array and size of the sliding window, def moving_avg(arr, n)\n"
      ]
    },
    {
      "cell_type": "code",
      "metadata": {
        "id": "3fzJKreFpsmF",
        "colab_type": "code",
        "colab": {
          "base_uri": "https://localhost:8080/",
          "height": 210
        },
        "outputId": "2dafd66c-41e5-4f8b-a1f6-6f410fc59fe4"
      },
      "source": [
        "def moving_avg(arr, n):\n",
        "  moving_avg = []\n",
        "  for i in range(len(arr)-(n-1)):\n",
        "    tmp = np.mean(arr[i:i+n])\n",
        "    moving_avg.append(tmp)\n",
        "  \n",
        "  return moving_avg\n",
        "\n",
        "arr = np.arange(10)\n",
        "k = int(input('window size:'))\n",
        "print()\n",
        "print(np.tile(arr, (len(arr)-k+1,1)))\n",
        "print()\n",
        "ans = moving_avg(arr, k)\n",
        "print(\"averages of sliding windows:\", ans)"
      ],
      "execution_count": 9,
      "outputs": [
        {
          "output_type": "stream",
          "text": [
            "window size:4\n",
            "\n",
            "[[0 1 2 3 4 5 6 7 8 9]\n",
            " [0 1 2 3 4 5 6 7 8 9]\n",
            " [0 1 2 3 4 5 6 7 8 9]\n",
            " [0 1 2 3 4 5 6 7 8 9]\n",
            " [0 1 2 3 4 5 6 7 8 9]\n",
            " [0 1 2 3 4 5 6 7 8 9]\n",
            " [0 1 2 3 4 5 6 7 8 9]]\n",
            "\n",
            "averages of sliding windows: [1.5, 2.5, 3.5, 4.5, 5.5, 6.5, 7.5]\n"
          ],
          "name": "stdout"
        }
      ]
    },
    {
      "cell_type": "code",
      "metadata": {
        "id": "-tITgsBkhbNT",
        "colab_type": "code",
        "colab": {
          "base_uri": "https://localhost:8080/",
          "height": 34
        },
        "outputId": "d36101e3-1c0b-4b4d-c3b5-b22d2346ea22"
      },
      "source": [
        "def moving_average(a, n=3) :\n",
        "    ret = np.cumsum(a, dtype=float)\n",
        "    ret[n:] = ret[n:] - ret[:-n]\n",
        "    return ret[n - 1:] / n\n",
        "Z = np.arange(10)\n",
        "print(moving_average(Z, n=3))"
      ],
      "execution_count": 6,
      "outputs": [
        {
          "output_type": "stream",
          "text": [
            "[1. 2. 3. 4. 5. 6. 7. 8.]\n"
          ],
          "name": "stdout"
        }
      ]
    },
    {
      "cell_type": "markdown",
      "metadata": {
        "id": "M7aY9jSupsmG",
        "colab_type": "text"
      },
      "source": [
        "#### 24. Find the indices of elements from 4 by 4 random matrix (0-1) which are larger than 0.5\n",
        "\n",
        "Print a list of tuples indicating the index for row and column\n"
      ]
    },
    {
      "cell_type": "code",
      "metadata": {
        "id": "E5jM1P0npsmH",
        "colab_type": "code",
        "colab": {
          "base_uri": "https://localhost:8080/",
          "height": 122
        },
        "outputId": "826f68db-ab42-4f14-ee0f-d2a0743121e5"
      },
      "source": [
        "a = np.random.random((4,4))\n",
        "print(a)\n",
        "print()\n",
        "id = np.nonzero(a>0.5)\n",
        "coordinates = [*zip(id[0],id[1])]\n",
        "print(coordinates)"
      ],
      "execution_count": null,
      "outputs": [
        {
          "output_type": "stream",
          "text": [
            "[[0.48835607 0.20884305 0.07656698 0.7572095 ]\n",
            " [0.9005907  0.48258304 0.29794201 0.18510508]\n",
            " [0.07834579 0.17902419 0.86796678 0.8081418 ]\n",
            " [0.30917439 0.60443227 0.43998796 0.15286133]]\n",
            "\n",
            "[(0, 3), (1, 0), (2, 2), (2, 3), (3, 1)]\n"
          ],
          "name": "stdout"
        }
      ]
    },
    {
      "cell_type": "markdown",
      "metadata": {
        "id": "QBJMJxs3psmM",
        "colab_type": "text"
      },
      "source": [
        "#### 25. Write a function returning distance between two points"
      ]
    },
    {
      "cell_type": "markdown",
      "metadata": {
        "id": "u79jJ3v_psmM",
        "colab_type": "raw"
      },
      "source": [
        "Test the function to check whether function is working correctly\n",
        "Hint: There are two arguments of function indicating two points"
      ]
    },
    {
      "cell_type": "code",
      "metadata": {
        "id": "S1CadmLCpsmM",
        "colab_type": "code",
        "colab": {
          "base_uri": "https://localhost:8080/",
          "height": 175
        },
        "outputId": "94ddb618-9fef-4c01-a489-6c410c8aec05"
      },
      "source": [
        "def distance(p1,p2):\n",
        "  x_d = p1[0] - p2[0]\n",
        "  y_d = p1[1] - p2[1]\n",
        "  distance = np.sqrt((x_d)**2 + (y_d)**2)\n",
        "  return distance\n",
        "\n",
        "print('Enter x, y value of p1')\n",
        "x1 = float(input('x:'))\n",
        "y1 = float(input('y:'))\n",
        "print()\n",
        "print('Enter x, y value of p2')\n",
        "x2 = float(input('x:'))\n",
        "y2 = float(input('y:'))\n",
        "\n",
        "p1 = (x1, y1)\n",
        "p2 = (x2, y2)\n",
        "\n",
        "print()\n",
        "d = distance(p1, p2)\n",
        "print(\"Distance:\", d)"
      ],
      "execution_count": null,
      "outputs": [
        {
          "output_type": "stream",
          "text": [
            "Enter x, y value of p1\n",
            "x:5\n",
            "y:2\n",
            "\n",
            "Enter x, y value of p2\n",
            "x:3\n",
            "y:3\n",
            "\n",
            "Distance: 2.23606797749979\n"
          ],
          "name": "stdout"
        }
      ]
    }
  ]
}